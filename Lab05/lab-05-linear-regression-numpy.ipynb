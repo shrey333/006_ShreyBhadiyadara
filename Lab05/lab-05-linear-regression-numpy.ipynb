{
 "cells": [
  {
   "cell_type": "code",
   "execution_count": 175,
   "metadata": {
    "collapsed": true
   },
   "outputs": [],
   "source": [
    "import numpy as np\n",
    "from sklearn.metrics import mean_squared_error\n",
    "import matplotlib.pyplot as plt"
   ]
  },
  {
   "cell_type": "code",
   "execution_count": 176,
   "outputs": [],
   "source": [
    "# Input (temp, rainfall, humidity)\n",
    "inputs = np.array(\n",
    "    [[73, 67, 43], [91, 88, 64], [87, 134, 58], [102, 43, 37], [69, 96, 70], [73, 67, 43], [91, 88, 64], [87, 134, 58],\n",
    "     [102, 43, 37], [69, 96, 70], [73, 67, 43], [91, 88, 64], [87, 134, 58], [102, 43, 37], [69, 96, 70]],\n",
    "    dtype='float32')\n",
    "# Targets (apples, oranges)\n",
    "targets = np.array([[56, 70], [81, 101], [119, 133], [22, 37], [103, 119],\n",
    "                    [56, 70], [81, 101], [119, 133], [22, 37], [103, 119],\n",
    "                    [56, 70], [81, 101], [119, 133], [22, 37], [103, 119]], dtype='float32')"
   ],
   "metadata": {
    "collapsed": false,
    "pycharm": {
     "name": "#%%\n"
    }
   }
  },
  {
   "cell_type": "code",
   "execution_count": 177,
   "outputs": [],
   "source": [
    "mu = np.mean(inputs, 0)\n",
    "sigma = np.std(inputs, 0)\n",
    "inputs = (inputs-mu)/sigma"
   ],
   "metadata": {
    "collapsed": false,
    "pycharm": {
     "name": "#%%\n"
    }
   }
  },
  {
   "cell_type": "code",
   "execution_count": 178,
   "outputs": [],
   "source": [
    "# Weights and biases\n",
    "W = np.random.rand(2, 3)\n",
    "B = np.random.rand(2)"
   ],
   "metadata": {
    "collapsed": false,
    "pycharm": {
     "name": "#%%\n"
    }
   }
  },
  {
   "cell_type": "code",
   "execution_count": 179,
   "outputs": [],
   "source": [
    "# Define the model\n",
    "def model(x,w=W, b=B):\n",
    "    return x @ w.T + b"
   ],
   "metadata": {
    "collapsed": false,
    "pycharm": {
     "name": "#%%\n"
    }
   }
  },
  {
   "cell_type": "code",
   "execution_count": 180,
   "outputs": [
    {
     "data": {
      "text/plain": "array([[-0.90030613, -1.27754702],\n       [ 1.28785068,  1.4268223 ],\n       [ 0.85510323,  1.84080583],\n       [-0.44001579, -0.41081829],\n       [ 1.01357519,  0.63135459],\n       [-0.90030613, -1.27754702],\n       [ 1.28785068,  1.4268223 ],\n       [ 0.85510323,  1.84080583],\n       [-0.44001579, -0.41081829],\n       [ 1.01357519,  0.63135459],\n       [-0.90030613, -1.27754702],\n       [ 1.28785068,  1.4268223 ],\n       [ 0.85510323,  1.84080583],\n       [-0.44001579, -0.41081829],\n       [ 1.01357519,  0.63135459]])"
     },
     "execution_count": 180,
     "metadata": {},
     "output_type": "execute_result"
    }
   ],
   "source": [
    "preds = model(inputs)\n",
    "preds"
   ],
   "metadata": {
    "collapsed": false,
    "pycharm": {
     "name": "#%%\n"
    }
   }
  },
  {
   "cell_type": "code",
   "execution_count": 181,
   "outputs": [
    {
     "data": {
      "text/plain": "8206.34195582052"
     },
     "execution_count": 181,
     "metadata": {},
     "output_type": "execute_result"
    }
   ],
   "source": [
    "loss = mean_squared_error(preds, targets)\n",
    "loss"
   ],
   "metadata": {
    "collapsed": false,
    "pycharm": {
     "name": "#%%\n"
    }
   }
  },
  {
   "cell_type": "code",
   "source": [
    "def gradient_descent(X, Y, W, B, learning_rate, n_iters):\n",
    "    JTheta = np.zeros((n_iters, 1))\n",
    "    for i in range(n_iters):\n",
    "        h = model(X, W, B)\n",
    "        diff = h - Y\n",
    "        delta = (learning_rate / Y.size) * (X.T @ diff)\n",
    "        W = W - delta.T\n",
    "        delta = (learning_rate / Y.size) * (np.ones([1, 15]) @ diff)\n",
    "        B = B - delta\n",
    "        JTheta[i] = mean_squared_error(h, Y)\n",
    "    return JTheta, W, B"
   ],
   "metadata": {
    "collapsed": false,
    "pycharm": {
     "name": "#%%\n"
    }
   },
   "execution_count": 182,
   "outputs": []
  },
  {
   "cell_type": "code",
   "execution_count": 183,
   "outputs": [
    {
     "name": "stdout",
     "output_type": "stream",
     "text": [
      "[[-4.77124569 21.33985229 12.53253742]\n",
      " [-3.95992745 20.87778216 13.95630343]]\n",
      "[[70.01385456 84.53145391]]\n"
     ]
    }
   ],
   "source": [
    "JTheta, W, B = gradient_descent(inputs, targets, W, B, 0.01, 500)\n",
    "print(W)\n",
    "print(B)"
   ],
   "metadata": {
    "collapsed": false,
    "pycharm": {
     "name": "#%%\n"
    }
   }
  },
  {
   "cell_type": "code",
   "execution_count": 184,
   "outputs": [
    {
     "data": {
      "text/plain": "array([[ 50.03229295,  62.76727277],\n       [ 78.71337194,  94.73197543],\n       [106.58323544, 120.94985443],\n       [ 15.68937758,  30.05681732],\n       [ 99.05099471, 114.15134788],\n       [ 50.03229295,  62.76727277],\n       [ 78.71337194,  94.73197543],\n       [106.58323544, 120.94985443],\n       [ 15.68937758,  30.05681732],\n       [ 99.05099471, 114.15134788],\n       [ 50.03229295,  62.76727277],\n       [ 78.71337194,  94.73197543],\n       [106.58323544, 120.94985443],\n       [ 15.68937758,  30.05681732],\n       [ 99.05099471, 114.15134788]])"
     },
     "execution_count": 184,
     "metadata": {},
     "output_type": "execute_result"
    }
   ],
   "source": [
    "preds = model(inputs, W, B)\n",
    "preds"
   ],
   "metadata": {
    "collapsed": false,
    "pycharm": {
     "name": "#%%\n"
    }
   }
  },
  {
   "cell_type": "code",
   "execution_count": 185,
   "outputs": [
    {
     "data": {
      "text/plain": "55.896053191412676"
     },
     "execution_count": 185,
     "metadata": {},
     "output_type": "execute_result"
    }
   ],
   "source": [
    "loss = mean_squared_error(preds, targets)\n",
    "loss"
   ],
   "metadata": {
    "collapsed": false,
    "pycharm": {
     "name": "#%%\n"
    }
   }
  },
  {
   "cell_type": "code",
   "execution_count": 186,
   "outputs": [],
   "source": [
    "def plot_loss(JTheta):\n",
    "  plt.plot(JTheta, label='loss')\n",
    "  plt.ylim([min(JTheta), max(JTheta)])\n",
    "  plt.xlabel('Epoch')\n",
    "  plt.ylabel('Error [MSE]')\n",
    "  plt.legend()\n",
    "  plt.grid(True)"
   ],
   "metadata": {
    "collapsed": false,
    "pycharm": {
     "name": "#%%\n"
    }
   }
  },
  {
   "cell_type": "code",
   "execution_count": 187,
   "outputs": [
    {
     "data": {
      "text/plain": "<Figure size 432x288 with 1 Axes>",
      "image/png": "[encoded data removed]"
     },
     "metadata": {
      "needs_background": "light"
     },
     "output_type": "display_data"
    }
   ],
   "source": [
    "plot_loss(JTheta)"
   ],
   "metadata": {
    "collapsed": false,
    "pycharm": {
     "name": "#%%\n"
    }
   }
  }
 ],
 "metadata": {
  "kernelspec": {
   "display_name": "Python 3",
   "language": "python",
   "name": "python3"
  },
  "language_info": {
   "codemirror_mode": {
    "name": "ipython",
    "version": 2
   },
   "file_extension": ".py",
   "mimetype": "text/x-python",
   "name": "python",
   "nbconvert_exporter": "python",
   "pygments_lexer": "ipython2",
   "version": "2.7.6"
  }
 },
 "nbformat": 4,
 "nbformat_minor": 0
}