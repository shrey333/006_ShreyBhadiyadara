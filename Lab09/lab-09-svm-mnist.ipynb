{
  "nbformat": 4,
  "nbformat_minor": 0,
  "metadata": {
    "kernelspec": {
      "language": "python",
      "display_name": "Python 3",
      "name": "python3"
    },
    "language_info": {
      "name": "python",
      "version": "3.7.10",
      "mimetype": "text/x-python",
      "codemirror_mode": {
        "name": "ipython",
        "version": 3
      },
      "pygments_lexer": "ipython3",
      "nbconvert_exporter": "python",
      "file_extension": ".py"
    },
    "colab": {
      "name": "lab-09-svm-mnist.ipynb",
      "provenance": []
    }
  },
  "cells": [
    {
      "cell_type": "code",
      "metadata": {
        "_uuid": "8f2839f25d086af736a60e9eeb907d3b93b6e0e5",
        "_cell_guid": "b1076dfc-b9ad-4769-8c92-a6c4dae69d19",
        "execution": {
          "iopub.status.busy": "2021-10-04T07:47:04.788667Z",
          "iopub.execute_input": "2021-10-04T07:47:04.789762Z",
          "iopub.status.idle": "2021-10-04T07:47:06.146250Z",
          "shell.execute_reply.started": "2021-10-04T07:47:04.789606Z",
          "shell.execute_reply": "2021-10-04T07:47:06.145391Z"
        },
        "trusted": true,
        "id": "6h203IKTRljb"
      },
      "source": [
        "import matplotlib.pyplot as plt\n",
        "from sklearn import svm\n",
        "from sklearn.model_selection import train_test_split\n",
        "import numpy as np"
      ],
      "execution_count": 1,
      "outputs": []
    },
    {
      "cell_type": "code",
      "metadata": {
        "execution": {
          "iopub.status.busy": "2021-10-04T07:47:06.147777Z",
          "iopub.execute_input": "2021-10-04T07:47:06.148527Z",
          "iopub.status.idle": "2021-10-04T07:47:33.926479Z",
          "shell.execute_reply.started": "2021-10-04T07:47:06.148486Z",
          "shell.execute_reply": "2021-10-04T07:47:33.924354Z"
        },
        "trusted": true,
        "colab": {
          "base_uri": "https://localhost:8080/"
        },
        "id": "kI8_lNZpRljq",
        "outputId": "b0a96019-0a34-446b-8475-402c7a81813f"
      },
      "source": [
        "from tensorflow.keras.datasets import mnist\n",
        "(x_train, y_train), (x_test, y_test) = mnist.load_data()\n",
        "\n",
        "y_train = y_train[:4000]\n",
        "y_test = y_test[:1000]\n",
        "\n",
        "# Convert to float32.\n",
        "x_train, x_test = np.array(x_train[:4000], np.float32), np.array(x_test[:1000], np.float32)\n",
        "\n",
        "# Flatten images to 1-D vector of 784 features (28*28).\n",
        "num_features = 784\n",
        "x_train, x_test = x_train.reshape([-1, num_features]), x_test.reshape([-1, num_features])\n",
        "\n",
        "# Normalize images value from [0, 255] to [0, 1].\n",
        "x_train, x_test = x_train / 255., x_test / 255."
      ],
      "execution_count": 2,
      "outputs": [
        {
          "output_type": "stream",
          "name": "stdout",
          "text": [
            "Downloading data from https://storage.googleapis.com/tensorflow/tf-keras-datasets/mnist.npz\n",
            "11493376/11490434 [==============================] - 0s 0us/step\n",
            "11501568/11490434 [==============================] - 0s 0us/step\n"
          ]
        }
      ]
    },
    {
      "cell_type": "code",
      "metadata": {
        "execution": {
          "iopub.status.busy": "2021-10-04T07:47:33.927872Z",
          "iopub.status.idle": "2021-10-04T07:47:33.928805Z",
          "shell.execute_reply.started": "2021-10-04T07:47:33.928387Z",
          "shell.execute_reply": "2021-10-04T07:47:33.928418Z"
        },
        "trusted": true,
        "id": "k8s4B0eJRljr"
      },
      "source": [
        "modelLinear = svm.SVC(kernel='linear')\n",
        "modelPolynomial = svm.SVC(kernel='poly')\n",
        "modelRBF = svm.SVC(kernel='rbf')"
      ],
      "execution_count": 3,
      "outputs": []
    },
    {
      "cell_type": "code",
      "metadata": {
        "execution": {
          "iopub.status.busy": "2021-10-04T07:47:33.931041Z",
          "iopub.status.idle": "2021-10-04T07:47:33.932575Z",
          "shell.execute_reply.started": "2021-10-04T07:47:33.932257Z",
          "shell.execute_reply": "2021-10-04T07:47:33.932289Z"
        },
        "trusted": true,
        "colab": {
          "base_uri": "https://localhost:8080/"
        },
        "id": "nlmzdui6Rljs",
        "outputId": "9cd7c2d8-e7fa-41f1-fa9a-db2ceb9925c1"
      },
      "source": [
        "modelLinear.fit(x_train, y_train)\n",
        "modelPolynomial.fit(x_train, y_train)\n",
        "modelRBF.fit(x_train, y_train)"
      ],
      "execution_count": 4,
      "outputs": [
        {
          "output_type": "execute_result",
          "data": {
            "text/plain": [
              "SVC(C=1.0, break_ties=False, cache_size=200, class_weight=None, coef0=0.0,\n",
              "    decision_function_shape='ovr', degree=3, gamma='scale', kernel='rbf',\n",
              "    max_iter=-1, probability=False, random_state=None, shrinking=True,\n",
              "    tol=0.001, verbose=False)"
            ]
          },
          "metadata": {},
          "execution_count": 4
        }
      ]
    },
    {
      "cell_type": "code",
      "metadata": {
        "execution": {
          "iopub.status.busy": "2021-10-04T07:47:33.933587Z",
          "iopub.status.idle": "2021-10-04T07:47:33.934839Z",
          "shell.execute_reply.started": "2021-10-04T07:47:33.934605Z",
          "shell.execute_reply": "2021-10-04T07:47:33.934635Z"
        },
        "trusted": true,
        "id": "5rMvQ0gMRljs"
      },
      "source": [
        "#Import scikit-learn metrics module for accuracy calculation\n",
        "from sklearn import metrics"
      ],
      "execution_count": 5,
      "outputs": []
    },
    {
      "cell_type": "code",
      "metadata": {
        "execution": {
          "iopub.status.busy": "2021-10-04T07:47:33.936288Z",
          "iopub.status.idle": "2021-10-04T07:47:33.936708Z",
          "shell.execute_reply.started": "2021-10-04T07:47:33.936474Z",
          "shell.execute_reply": "2021-10-04T07:47:33.936539Z"
        },
        "trusted": true,
        "colab": {
          "base_uri": "https://localhost:8080/"
        },
        "id": "HBRU-fi-Rljv",
        "outputId": "137db302-2ff1-4324-b5ba-cf59a364264b"
      },
      "source": [
        "y_pred = modelLinear.predict(x_test)\n",
        "print(\"Accuracy:\",metrics.accuracy_score(y_test, y_pred))"
      ],
      "execution_count": 6,
      "outputs": [
        {
          "output_type": "stream",
          "name": "stdout",
          "text": [
            "Accuracy: 0.901\n"
          ]
        }
      ]
    },
    {
      "cell_type": "code",
      "metadata": {
        "execution": {
          "iopub.status.busy": "2021-10-04T07:47:33.938044Z",
          "iopub.status.idle": "2021-10-04T07:47:33.938514Z",
          "shell.execute_reply.started": "2021-10-04T07:47:33.938328Z",
          "shell.execute_reply": "2021-10-04T07:47:33.938351Z"
        },
        "trusted": true,
        "colab": {
          "base_uri": "https://localhost:8080/"
        },
        "id": "onVByCcFRljz",
        "outputId": "2ae759cc-eab2-4151-952c-e5034d6be5ea"
      },
      "source": [
        "y_pred = modelPolynomial.predict(x_test)\n",
        "print(\"Accuracy:\",metrics.accuracy_score(y_test, y_pred))"
      ],
      "execution_count": 7,
      "outputs": [
        {
          "output_type": "stream",
          "name": "stdout",
          "text": [
            "Accuracy: 0.915\n"
          ]
        }
      ]
    },
    {
      "cell_type": "code",
      "metadata": {
        "execution": {
          "iopub.status.busy": "2021-10-04T07:47:33.940746Z",
          "iopub.status.idle": "2021-10-04T07:47:33.941120Z",
          "shell.execute_reply.started": "2021-10-04T07:47:33.940939Z",
          "shell.execute_reply": "2021-10-04T07:47:33.940961Z"
        },
        "trusted": true,
        "colab": {
          "base_uri": "https://localhost:8080/"
        },
        "id": "Jk8nmCxbRlj0",
        "outputId": "1643a657-2594-4c04-9006-a900c93efed3"
      },
      "source": [
        "y_pred = modelRBF.predict(x_test)\n",
        "print(\"Accuracy:\",metrics.accuracy_score(y_test, y_pred))"
      ],
      "execution_count": 8,
      "outputs": [
        {
          "output_type": "stream",
          "name": "stdout",
          "text": [
            "Accuracy: 0.932\n"
          ]
        }
      ]
    }
  ]
}